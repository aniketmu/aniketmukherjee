{
 "cells": [
  {
   "cell_type": "code",
   "execution_count": 13,
   "metadata": {},
   "outputs": [
    {
     "name": "stdout",
     "output_type": "stream",
     "text": [
      "Enter the value of x1\n",
      "Enter the value of y2\n",
      "Enter the value of z3\n"
     ]
    }
   ],
   "source": [
    "x=input(\"Enter the value of x\")\n",
    "y=input(\"Enter the value of y\")\n",
    "z=input(\"Enter the value of z\")\n",
    "\n",
    "\n",
    "x=int(x)\n",
    "y=int(y)\n",
    "z=int(z)"
   ]
  },
  {
   "cell_type": "code",
   "execution_count": null,
   "metadata": {},
   "outputs": [],
   "source": []
  },
  {
   "cell_type": "code",
   "execution_count": 16,
   "metadata": {},
   "outputs": [
    {
     "name": "stdout",
     "output_type": "stream",
     "text": [
      "Enter the value of x67\n",
      "Enter the value of y69\n",
      "Enter the value of z60\n",
      "y is the greatest\n"
     ]
    }
   ],
   "source": [
    "x=input(\"Enter the value of x\")\n",
    "y=input(\"Enter the value of y\")\n",
    "z=input(\"Enter the value of z\")\n",
    "\n",
    "\n",
    "x=int(x)\n",
    "y=int(y)\n",
    "z=int(z)\n",
    "\n",
    "\n",
    "if x>y:\n",
    "    if x>z:\n",
    "        print(\"x is the greatest\")\n",
    "    else: \n",
    "        print(\"z is the greatest\")\n",
    "else:\n",
    "    if y>z:\n",
    "        print(\"y is the greatest\")    \n",
    "    else:\n",
    "        print(\"z is greatest\")\n",
    "            "
   ]
  },
  {
   "cell_type": "code",
   "execution_count": 26,
   "metadata": {},
   "outputs": [
    {
     "data": {
      "text/plain": [
       "[5, 23, 55, 56]"
      ]
     },
     "execution_count": 26,
     "metadata": {},
     "output_type": "execute_result"
    }
   ],
   "source": [
    "m=[5,78,93,67,23,56,87,55]\n",
    "sorted(m)[0:4]"
   ]
  },
  {
   "cell_type": "code",
   "execution_count": null,
   "metadata": {},
   "outputs": [],
   "source": []
  },
  {
   "cell_type": "code",
   "execution_count": null,
   "metadata": {},
   "outputs": [],
   "source": []
  },
  {
   "cell_type": "code",
   "execution_count": null,
   "metadata": {},
   "outputs": [],
   "source": []
  },
  {
   "cell_type": "code",
   "execution_count": null,
   "metadata": {},
   "outputs": [],
   "source": []
  },
  {
   "cell_type": "code",
   "execution_count": null,
   "metadata": {},
   "outputs": [],
   "source": []
  },
  {
   "cell_type": "code",
   "execution_count": null,
   "metadata": {},
   "outputs": [],
   "source": []
  }
 ],
 "metadata": {
  "kernelspec": {
   "display_name": "Python 3",
   "language": "python",
   "name": "python3"
  },
  "language_info": {
   "codemirror_mode": {
    "name": "ipython",
    "version": 3
   },
   "file_extension": ".py",
   "mimetype": "text/x-python",
   "name": "python",
   "nbconvert_exporter": "python",
   "pygments_lexer": "ipython3",
   "version": "3.7.4"
  }
 },
 "nbformat": 4,
 "nbformat_minor": 2
}
